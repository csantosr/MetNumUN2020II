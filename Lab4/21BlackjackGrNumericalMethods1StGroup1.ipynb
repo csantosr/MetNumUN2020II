{
  "nbformat": 4,
  "nbformat_minor": 0,
  "metadata": {
    "colab": {
      "name": "21BlackjackGrNumericalMethods1StGroup1",
      "provenance": [],
      "collapsed_sections": []
    },
    "kernelspec": {
      "name": "python3",
      "display_name": "Python 3"
    }
  },
  "cells": [
    {
      "cell_type": "markdown",
      "metadata": {
        "id": "W1sQcwPHphyE"
      },
      "source": [
        "<img src=\"https://portafoliodigitalmodelosojcr.weebly.com/uploads/4/8/8/4/48840943/1824297_orig.jpg\" align=\"center\"/>"
      ]
    },
    {
      "cell_type": "code",
      "metadata": {
        "id": "gWYXauBUiyLy"
      },
      "source": [
        "import random as r\n",
        "import matplotlib.pyplot as plt\n",
        "import matplotlib.ticker as plt_tick\n",
        "import numpy as np"
      ],
      "execution_count": 1,
      "outputs": []
    },
    {
      "cell_type": "markdown",
      "metadata": {
        "id": "G6bb9IwUUXOq"
      },
      "source": [
        "## Definición del método Monte Carlo para blackjack"
      ]
    },
    {
      "cell_type": "code",
      "metadata": {
        "id": "XEpaMt-HpV5i"
      },
      "source": [
        "def monte_carlo_blackjack(iterations, deck, initial_game_cards=[], saving_memory=False, ploting=False):\n",
        "  win_count = 0\n",
        "  win_game_cards_count = []\n",
        "  for _ in range(iterations):\n",
        "    game_cards = initial_game_cards[:]\n",
        "    game_deck = deck[:]\n",
        "    while sum(game_cards) < 21:\n",
        "      card = r.choice(game_deck)\n",
        "      game_deck.remove(card)\n",
        "      game_cards.append(card)\n",
        "    if sum(game_cards) == 21:\n",
        "      win_count += 1\n",
        "      if not saving_memory:\n",
        "        win_game_cards_count.append(len(game_cards))\n",
        "  #print('Gané {} veces y perdí {} veces, la probabilidad de ganar es de {}'.format(win_count, iterations-win_count, win_count/iterations))\n",
        "  if not saving_memory:\n",
        "    if ploting:\n",
        "      win_game_cards_unique = list(set(win_game_cards_count))\n",
        "      win_game_cards_weight = []\n",
        "      win_game_cards_percentage = []\n",
        "      win_game_cards_distribution = []\n",
        "      for n in win_game_cards_unique:\n",
        "        n_count = win_game_cards_count.count(n)\n",
        "        win_game_cards_weight.append(n_count)\n",
        "        win_game_cards_percentage.append('{:.2f}%'.format(n_count*100/len(win_game_cards_count)))\n",
        "        win_game_cards_distribution.append(float('{:.2f}'.format(n_count/len(win_game_cards_count))))\n",
        "      chart = plt.bar(win_game_cards_unique, win_game_cards_distribution, alpha=0.5)\n",
        "      table = plt.table(cellText=[win_game_cards_percentage, win_game_cards_weight],\n",
        "                        rowLabels=['Porcentaje', 'Cantidad'],\n",
        "                        colLabels=win_game_cards_unique,\n",
        "                        loc='bottom')\n",
        "      plt.subplots_adjust(left=0.2, bottom=0.2)\n",
        "      plt.xticks([])\n",
        "      plt.show();\n",
        "\n",
        "      plt.show();\n",
        "  else:\n",
        "      #pass\n",
        "      print(game_cards)\n",
        "  #print(\"veces ganadas {}\".format(win_count))\n",
        "  #print(\"repeticiones {}\".format(iterations))\n",
        "  #print(\"Probabilidad de ganar {}\".format(win_count/iterations))\n",
        "  return win_count/iterations, win_game_cards_count"
      ],
      "execution_count": 2,
      "outputs": []
    },
    {
      "cell_type": "markdown",
      "metadata": {
        "id": "UlNnsHP1UxFT"
      },
      "source": [
        "## Punto 1"
      ]
    },
    {
      "cell_type": "code",
      "metadata": {
        "id": "sJ0JLFqpoTcH"
      },
      "source": [
        "# standard decks\n",
        "std_spanish_deck = [1,2,3,4,5,6,7,10,11,12,1,2,3,4,5,6,7,8,9,10,11,12,1,2,3,4,5,6,7,8,9,10,11,12,1,2,3,4,5,6,7,8,9,10,11,12] \n",
        "std_poker_deck = [1,2,3,4,5,6,7,8,9,10,11,12,13,1,2,3,4,5,6,7,8,9,10,11,12,13,1,2,3,4,5,6,7,8,9,10,11,12,13,1,2,3,4,5,6,7,8,9,10,11,12,13]"
      ],
      "execution_count": 3,
      "outputs": []
    },
    {
      "cell_type": "code",
      "metadata": {
        "id": "I-78SXgAtvs_",
        "outputId": "08bd08e1-e30e-45a8-c047-b80ddc4a52e0",
        "colab": {
          "base_uri": "https://localhost:8080/",
          "height": 294
        }
      },
      "source": [
        "probability, win_cards_sum = monte_carlo_blackjack(10000000, std_spanish_deck, ploting=True)\n",
        "print(\"Probabilidad de ganar {}\".format(probability))\n",
        "print(\"El promedio de cartas usadas para ganar {}\".format(sum(win_cards_sum)/len(win_cards_sum)))"
      ],
      "execution_count": 4,
      "outputs": [
        {
          "output_type": "display_data",
          "data": {
            "image/png": "[encoded data removed]",
            "text/plain": [
              "<Figure size 432x288 with 1 Axes>"
            ]
          },
          "metadata": {
            "tags": [],
            "needs_background": "light"
          }
        },
        {
          "output_type": "stream",
          "text": [
            "Probabilidad de ganar 0.1584599\n",
            "El promedio de cartas usadas para ganar 3.479850738262488\n"
          ],
          "name": "stdout"
        }
      ]
    },
    {
      "cell_type": "code",
      "metadata": {
        "id": "Mq8ZVlUruueY",
        "outputId": "6c002df5-9133-4a2f-bbf3-4cceb810a990",
        "colab": {
          "base_uri": "https://localhost:8080/",
          "height": 294
        }
      },
      "source": [
        "probability, win_cards_sum = monte_carlo_blackjack(10000000, std_poker_deck, ploting=True)\n",
        "print(\"Probabilidad de ganar {}\".format(probability))\n",
        "print(\"El promedio de cartas usadas para ganar {}\".format(sum(win_cards_sum)/len(win_cards_sum)))"
      ],
      "execution_count": 5,
      "outputs": [
        {
          "output_type": "display_data",
          "data": {
            "image/png": "[encoded data removed]",
            "text/plain": [
              "<Figure size 432x288 with 1 Axes>"
            ]
          },
          "metadata": {
            "tags": [],
            "needs_background": "light"
          }
        },
        {
          "output_type": "stream",
          "text": [
            "Probabilidad de ganar 0.1445916\n",
            "El promedio de cartas usadas para ganar 3.2153493010658987\n"
          ],
          "name": "stdout"
        }
      ]
    },
    {
      "cell_type": "markdown",
      "metadata": {
        "id": "N51Jow9yVQyC"
      },
      "source": [
        "## Punto 2"
      ]
    },
    {
      "cell_type": "code",
      "metadata": {
        "id": "efNUSygaVSgW"
      },
      "source": [
        "# normal weight decks\n",
        "nrm_spanish_deck = [1,2,3,4,5,6,7,8,9,10,10,10,1,2,3,4,5,6,7,8,9,10,10,10,1,2,3,4,5,6,7,8,9,10,10,10,1,2,3,4,5,6,7,8,9,10,10,10]\n",
        "nrm_poker_deck = [1,2,3,4,5,6,7,8,9,10,10,10,10,1,2,3,4,5,6,7,8,9,10,10,10,10,1,2,3,4,5,6,7,8,9,10,10,10,10,1,2,3,4,5,6,7,8,9,10,10,10,10]"
      ],
      "execution_count": 6,
      "outputs": []
    },
    {
      "cell_type": "code",
      "metadata": {
        "id": "RuGrHA-rWBOS",
        "outputId": "7376b376-b043-4719-9209-1ec768a8fd32",
        "colab": {
          "base_uri": "https://localhost:8080/",
          "height": 294
        }
      },
      "source": [
        "probability, win_cards_sum = monte_carlo_blackjack(10000000, nrm_spanish_deck, ploting=True)\n",
        "print(\"Probabilidad de ganar {}\".format(probability))\n",
        "print(\"El promedio de cartas usadas para ganar {}\".format(sum(win_cards_sum)/len(win_cards_sum)))"
      ],
      "execution_count": 7,
      "outputs": [
        {
          "output_type": "display_data",
          "data": {
            "image/png": "[encoded data removed]",
            "text/plain": [
              "<Figure size 432x288 with 1 Axes>"
            ]
          },
          "metadata": {
            "tags": [],
            "needs_background": "light"
          }
        },
        {
          "output_type": "stream",
          "text": [
            "Probabilidad de ganar 0.1497231\n",
            "El promedio de cartas usadas para ganar 3.6996649147659912\n"
          ],
          "name": "stdout"
        }
      ]
    },
    {
      "cell_type": "code",
      "metadata": {
        "id": "rCPKWAX9WEcE",
        "outputId": "c40c8d86-de91-444f-a0b3-139e0c906ca8",
        "colab": {
          "base_uri": "https://localhost:8080/",
          "height": 294
        }
      },
      "source": [
        "probability, win_cards_sum = monte_carlo_blackjack(10000000, nrm_poker_deck, ploting=True)\n",
        "print(\"Probabilidad de ganar {}\".format(probability))\n",
        "print(\"El promedio de cartas usadas para ganar {}\".format(sum(win_cards_sum)/len(win_cards_sum)))"
      ],
      "execution_count": 8,
      "outputs": [
        {
          "output_type": "display_data",
          "data": {
            "image/png": "[encoded data removed]",
            "text/plain": [
              "<Figure size 432x288 with 1 Axes>"
            ]
          },
          "metadata": {
            "tags": [],
            "needs_background": "light"
          }
        },
        {
          "output_type": "stream",
          "text": [
            "Probabilidad de ganar 0.1399366\n",
            "El promedio de cartas usadas para ganar 3.577315012655731\n"
          ],
          "name": "stdout"
        }
      ]
    },
    {
      "cell_type": "markdown",
      "metadata": {
        "id": "EmMHkULkW0if"
      },
      "source": [
        "## Punto 3"
      ]
    },
    {
      "cell_type": "code",
      "metadata": {
        "id": "uT7ZTsVGsChl"
      },
      "source": [
        "def custom_deck(base_deck, parts_of_deck=2, hand=[]):\n",
        "  auxiliar_deck = base_deck[:]\n",
        "  for card in hand:\n",
        "    auxiliar_deck.remove(card)\n",
        "  game_deck = []\n",
        "  for _ in range(int(len(base_deck)/parts_of_deck)):\n",
        "    card = r.choice(auxiliar_deck)\n",
        "    auxiliar_deck.remove(card)\n",
        "    game_deck.append(card)\n",
        "  return game_deck"
      ],
      "execution_count": 9,
      "outputs": []
    },
    {
      "cell_type": "code",
      "metadata": {
        "id": "fjLDcgk6vROe",
        "outputId": "8d3c0a6a-fe76-4073-c0ba-2b54a551320e",
        "colab": {
          "base_uri": "https://localhost:8080/",
          "height": 34
        }
      },
      "source": [
        "spanish_cool_deck = custom_deck(std_spanish_deck, hand=[7, 7, 5])\n",
        "print(spanish_cool_deck)"
      ],
      "execution_count": 10,
      "outputs": [
        {
          "output_type": "stream",
          "text": [
            "[6, 9, 6, 4, 12, 10, 10, 8, 10, 4, 11, 3, 12, 1, 9, 4, 5, 7, 11, 6, 2, 11, 5]\n"
          ],
          "name": "stdout"
        }
      ]
    },
    {
      "cell_type": "code",
      "metadata": {
        "id": "BUxYvbPxuYSx",
        "outputId": "17cd066d-d378-4e57-e609-9193b1876942",
        "colab": {
          "base_uri": "https://localhost:8080/",
          "height": 294
        }
      },
      "source": [
        "probability, win_cards_sum = monte_carlo_blackjack(10000000, spanish_cool_deck, [7, 7, 5], ploting=True)\n",
        "print(\"Probabilidad de ganar {}\".format(probability))\n",
        "print(\"El promedio de cartas usadas para ganar {}\".format(sum(win_cards_sum)/len(win_cards_sum)))"
      ],
      "execution_count": 11,
      "outputs": [
        {
          "output_type": "display_data",
          "data": {
            "image/png": "[encoded data removed]",
            "text/plain": [
              "<Figure size 432x288 with 1 Axes>"
            ]
          },
          "metadata": {
            "tags": [],
            "needs_background": "light"
          }
        },
        {
          "output_type": "stream",
          "text": [
            "Probabilidad de ganar 0.0435348\n",
            "El promedio de cartas usadas para ganar 4.0\n"
          ],
          "name": "stdout"
        }
      ]
    },
    {
      "cell_type": "markdown",
      "metadata": {
        "id": "bucg6hJphpU_"
      },
      "source": [
        "## Punto 4"
      ]
    },
    {
      "cell_type": "code",
      "metadata": {
        "id": "EfVxsWuHhoPk"
      },
      "source": [
        "spanish_hot_deck = [1, 1, 1, 1, 2, 2, 2, 2]\n",
        "poker_hot_deck = [1, 1, 1, 1, 2, 2, 2, 2]\n",
        "spanish_cold_deck = [8, 8, 8, 8, 9, 9, 9, 9]\n",
        "poker_cold_deck = [8, 8, 8, 8, 9, 9, 9, 9]"
      ],
      "execution_count": 12,
      "outputs": []
    },
    {
      "cell_type": "code",
      "metadata": {
        "id": "Pos8G05UwCYc",
        "outputId": "d24d337b-e7a2-48ff-fc2d-83f677d02855",
        "colab": {
          "base_uri": "https://localhost:8080/",
          "height": 69
        }
      },
      "source": [
        "probability, win_cards_sum = monte_carlo_blackjack(10000000, spanish_hot_deck, [7, 7, 5], saving_memory=True)\n",
        "print(\"Probabilidad analítica de ganar {}\".format((1/2)+((1/2)*(3/8))))\n",
        "print(\"Probabilidad de ganar {}\".format(probability))"
      ],
      "execution_count": 13,
      "outputs": [
        {
          "output_type": "stream",
          "text": [
            "[7, 7, 5, 2]\n",
            "Probabilidad analítica de ganar 0.6875\n",
            "Probabilidad de ganar 0.714388\n"
          ],
          "name": "stdout"
        }
      ]
    },
    {
      "cell_type": "code",
      "metadata": {
        "id": "jIjvKLvCvsW8",
        "outputId": "5a1013d8-36c4-4c45-9dc2-429469b76b50",
        "colab": {
          "base_uri": "https://localhost:8080/",
          "height": 69
        }
      },
      "source": [
        "probability, win_cards_sum = monte_carlo_blackjack(10000000, spanish_cold_deck, [7, 7, 5], saving_memory=True)\n",
        "print(\"Probabilidad analítica de ganar {}\".format(0))\n",
        "print(\"Probabilidad de ganar {}\".format(probability))"
      ],
      "execution_count": 14,
      "outputs": [
        {
          "output_type": "stream",
          "text": [
            "[7, 7, 5, 9]\n",
            "Probabilidad analítica de ganar 0\n",
            "Probabilidad de ganar 0.0\n"
          ],
          "name": "stdout"
        }
      ]
    },
    {
      "cell_type": "code",
      "metadata": {
        "id": "guZRcXOwv43j",
        "outputId": "e20bdef4-6fff-45df-f8ee-29f681be48de",
        "colab": {
          "base_uri": "https://localhost:8080/",
          "height": 69
        }
      },
      "source": [
        "probability, win_cards_sum = monte_carlo_blackjack(10000000, poker_hot_deck, [7, 7, 5], saving_memory=True)\n",
        "print(\"Probabilidad analítica de ganar {}\".format((1/2)+((1/2)*(3/8))))\n",
        "print(\"Probabilidad de ganar {}\".format(probability))"
      ],
      "execution_count": 15,
      "outputs": [
        {
          "output_type": "stream",
          "text": [
            "[7, 7, 5, 1, 2]\n",
            "Probabilidad analítica de ganar 0.6875\n",
            "Probabilidad de ganar 0.7142149\n"
          ],
          "name": "stdout"
        }
      ]
    },
    {
      "cell_type": "code",
      "metadata": {
        "id": "psRlOAbNv5bt",
        "outputId": "be19fa54-6d62-450d-af40-e7432537d222",
        "colab": {
          "base_uri": "https://localhost:8080/",
          "height": 69
        }
      },
      "source": [
        "probability, win_cards_sum = monte_carlo_blackjack(10000000, poker_cold_deck, [7, 7, 5], saving_memory=True)\n",
        "print(\"Probabilidad analítica de ganar {}\".format(0))\n",
        "print(\"Probabilidad de ganar {}\".format(probability))"
      ],
      "execution_count": 16,
      "outputs": [
        {
          "output_type": "stream",
          "text": [
            "[7, 7, 5, 8]\n",
            "Probabilidad analítica de ganar 0\n",
            "Probabilidad de ganar 0.0\n"
          ],
          "name": "stdout"
        }
      ]
    },
    {
      "cell_type": "markdown",
      "metadata": {
        "id": "Q0cx2XHuoZfw"
      },
      "source": [
        "## Punto 5"
      ]
    },
    {
      "cell_type": "code",
      "metadata": {
        "id": "hHKB8Oy9odOA",
        "outputId": "12cdcbaa-ddb6-423e-b8ca-34723e43e514",
        "colab": {
          "base_uri": "https://localhost:8080/",
          "height": 34
        }
      },
      "source": [
        "balances = []\n",
        "total_sum_balances = 0 \n",
        "for i in range (0,10000):\n",
        "  bet_hot_deck = 1000\n",
        "  bet_cold_deck = 10\n",
        "  balance = 0\n",
        "  for weekend in range (0,600):\n",
        "    if r.random() <= 0.1:\n",
        "      balance -= bet_hot_deck\n",
        "      probability, win_cards_sum = monte_carlo_blackjack(1, spanish_hot_deck, [7,7,5])\n",
        "      \n",
        "      if probability == 1:\n",
        "        #balance += bet_hot_deck*1.5\n",
        "        balance += bet_hot_deck*2\n",
        "    else:\n",
        "      balance -= bet_cold_deck\n",
        "      probability, win_cards_sum = monte_carlo_blackjack(1, nrm_spanish_deck)\n",
        "\n",
        "      if probability == 1:\n",
        "        #balance += bet_cold_deck*1.5\n",
        "        balance += bet_cold_deck*2\n",
        "  balances.append(balance)\n",
        "  total_sum_balances += balance\n",
        "\n",
        "print('El promedio de los balances obtenidos es: {}'.format(total_sum_balances/len(balances)))\n",
        "#plt.hist(balances, bins=30)\n",
        "#plt.show();\n"
      ],
      "execution_count": 17,
      "outputs": [
        {
          "output_type": "stream",
          "text": [
            "El promedio de los balances obtenidos es: 21915.775\n"
          ],
          "name": "stdout"
        }
      ]
    },
    {
      "cell_type": "code",
      "metadata": {
        "id": "WEP5uXciIWhp",
        "outputId": "8dd0b9a5-2a91-47c9-b5ef-300d1e676f51",
        "colab": {
          "base_uri": "https://localhost:8080/",
          "height": 34
        }
      },
      "source": [
        "balances = []\n",
        "total_sum_balances = 0 \n",
        "for i in range (0,10000):\n",
        "  bet_hot_deck = 1000\n",
        "  bet_cold_deck = 10\n",
        "  balance = 0\n",
        "  for weekend in range (0,600):\n",
        "    if r.random() <= 0.1:\n",
        "      balance -= bet_hot_deck\n",
        "      probability, win_cards_sum = monte_carlo_blackjack(1, poker_hot_deck, [7,7,5])\n",
        "      \n",
        "      if probability == 1:\n",
        "        #balance += bet_hot_deck*1.5\n",
        "        balance += bet_hot_deck*2\n",
        "    else:\n",
        "      balance -= bet_cold_deck\n",
        "      probability, win_cards_sum = monte_carlo_blackjack(1, nrm_poker_deck)\n",
        "\n",
        "      if probability == 1:\n",
        "        #balance += bet_cold_deck*1.5\n",
        "        balance += bet_cold_deck*2\n",
        "  balances.append(balance)\n",
        "  total_sum_balances += balance\n",
        "\n",
        "print('El promedio de los balances obtenidos es: {}'.format(total_sum_balances/len(balances)))"
      ],
      "execution_count": 18,
      "outputs": [
        {
          "output_type": "stream",
          "text": [
            "El promedio de los balances obtenidos es: 22022.71\n"
          ],
          "name": "stdout"
        }
      ]
    }
  ]
}