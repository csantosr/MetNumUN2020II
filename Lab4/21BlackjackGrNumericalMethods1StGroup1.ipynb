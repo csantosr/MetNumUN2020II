{
  "nbformat": 4,
  "nbformat_minor": 0,
  "metadata": {
    "colab": {
      "name": "21BlackjackGrNumericalMethods1StGroup1.ipynb",
      "provenance": [],
      "collapsed_sections": []
    },
    "kernelspec": {
      "name": "python3",
      "display_name": "Python 3"
    }
  },
  "cells": [
    {
      "cell_type": "markdown",
      "metadata": {
        "id": "W1sQcwPHphyE"
      },
      "source": [
        "<img src=\"https://portafoliodigitalmodelosojcr.weebly.com/uploads/4/8/8/4/48840943/1824297_orig.jpg\" align=\"center\"/>"
      ]
    },
    {
      "cell_type": "code",
      "metadata": {
        "id": "gWYXauBUiyLy"
      },
      "source": [
        "import random as r\n",
        "import matplotlib.pyplot as plt\n",
        "import matplotlib.ticker as plt_tick\n",
        "import numpy as np"
      ],
      "execution_count": 1,
      "outputs": []
    },
    {
      "cell_type": "markdown",
      "metadata": {
        "id": "G6bb9IwUUXOq"
      },
      "source": [
        "## Definición del método Monte Carlo para blackjack"
      ]
    },
    {
      "cell_type": "code",
      "metadata": {
        "id": "XEpaMt-HpV5i"
      },
      "source": [
        "def monte_carlo_blackjack(iterations, deck, initial_game_cards=[], saving_memory=False, ploting=False):\n",
        "  '''\n",
        "  Función para hacer una simulación de monte carlo en el caso del juego \n",
        "  Blackjack partiendo de una baraja específica\n",
        "\n",
        "  Parameters\n",
        "  ----------\n",
        "  iterations : int\n",
        "    Número de iteraciones de la simulación\n",
        "  deck : int array\n",
        "    Baraja desde la que se va a jugar en cada iteración\n",
        "  initial_game_cards : int array, optional (default=[])\n",
        "    Cartas que se tienen en la mano antes de iniciar la simulación\n",
        "  saving_memory : bool, optional (default=False)\n",
        "    Bandera que indica si se quieren guardar el número de cartas usado para ganar\n",
        "    en cada iteración.\n",
        "    Casos:\n",
        "      saving memory == True:\n",
        "        No se guardará el número de cartas utilizado para ganar y la función\n",
        "        retornará la probabilidad y un arreglo vacío\n",
        "      saving memory == False:\n",
        "        Se guarda la cantidad de cartas usadas para ganar y la función retornará\n",
        "        la probabilidad y este arreglo\n",
        "        ** Es necesaro que saving_memory sea False para poder ejecutar la \n",
        "           secuencia de graficar\n",
        "  ploting : bool, optional\n",
        "    Bandera que indica si se desea graficar la distribución de cartas obtenida\n",
        "  '''\n",
        "  win_count = 0\n",
        "  win_game_cards_count = []\n",
        "  for _ in range(iterations):\n",
        "    game_cards = initial_game_cards[:]\n",
        "    game_deck = deck[:]\n",
        "    while sum(game_cards) < 21:\n",
        "      card = r.choice(game_deck)\n",
        "      game_deck.remove(card)\n",
        "      game_cards.append(card)\n",
        "    if sum(game_cards) == 21:\n",
        "      win_count += 1\n",
        "      if not saving_memory:\n",
        "        win_game_cards_count.append(len(game_cards))\n",
        "  if not saving_memory:\n",
        "    if ploting:\n",
        "      win_game_cards_unique = list(set(win_game_cards_count))\n",
        "      win_game_cards_weight = []\n",
        "      win_game_cards_percentage = []\n",
        "      win_game_cards_distribution = []\n",
        "      for n in win_game_cards_unique:\n",
        "        n_count = win_game_cards_count.count(n)\n",
        "        win_game_cards_weight.append(n_count)\n",
        "        win_game_cards_percentage.append('{:.2f}%'.format(n_count*100/len(win_game_cards_count)))\n",
        "        win_game_cards_distribution.append(float('{:.2f}'.format(n_count/len(win_game_cards_count))))\n",
        "      chart = plt.bar(win_game_cards_unique, win_game_cards_distribution, alpha=0.5)\n",
        "      table = plt.table(cellText=[win_game_cards_percentage, win_game_cards_weight],\n",
        "                        rowLabels=['Porcentaje', 'Cantidad'],\n",
        "                        colLabels=win_game_cards_unique,\n",
        "                        loc='bottom')\n",
        "      plt.subplots_adjust(left=0.2, bottom=0.2)\n",
        "      plt.xticks([])\n",
        "      plt.ylabel('Probabilidad de ganar con n cartas')\n",
        "      plt.show();\n",
        "\n",
        "      plt.show();\n",
        "  return win_count/iterations, win_game_cards_count"
      ],
      "execution_count": 2,
      "outputs": []
    },
    {
      "cell_type": "markdown",
      "metadata": {
        "id": "UlNnsHP1UxFT"
      },
      "source": [
        "## Punto 1"
      ]
    },
    {
      "cell_type": "code",
      "metadata": {
        "id": "sJ0JLFqpoTcH",
        "outputId": "4bd72dbb-dbe1-4750-db05-37d9c873a8f5",
        "colab": {
          "base_uri": "https://localhost:8080/",
          "height": 79
        }
      },
      "source": [
        "# standard decks\n",
        "std_spanish_deck = [1,2,3,4,5,6,7,8,9,10,11,12,1,2,3,4,5,6,7,8,9,10,11,12,1,2,3,4,5,6,7,8,9,10,11,12,1,2,3,4,5,6,7,8,9,10,11,12]\n",
        "std_poker_deck = [1,2,3,4,5,6,7,8,9,10,11,12,13,1,2,3,4,5,6,7,8,9,10,11,12,13,1,2,3,4,5,6,7,8,9,10,11,12,13,1,2,3,4,5,6,7,8,9,10,11,12,13]\n",
        "print('Mazo español de {} cartas: {}'.format(len(std_spanish_deck), std_spanish_deck))\n",
        "print('Mazo de poker de {} cartas: {}'.format(len(std_poker_deck), std_poker_deck))"
      ],
      "execution_count": 3,
      "outputs": [
        {
          "output_type": "stream",
          "text": [
            "Mazo español de 48 cartas: [1, 2, 3, 4, 5, 6, 7, 8, 9, 10, 11, 12, 1, 2, 3, 4, 5, 6, 7, 8, 9, 10, 11, 12, 1, 2, 3, 4, 5, 6, 7, 8, 9, 10, 11, 12, 1, 2, 3, 4, 5, 6, 7, 8, 9, 10, 11, 12]\n",
            "Mazo de poker de 52 cartas: [1, 2, 3, 4, 5, 6, 7, 8, 9, 10, 11, 12, 13, 1, 2, 3, 4, 5, 6, 7, 8, 9, 10, 11, 12, 13, 1, 2, 3, 4, 5, 6, 7, 8, 9, 10, 11, 12, 13, 1, 2, 3, 4, 5, 6, 7, 8, 9, 10, 11, 12, 13]\n"
          ],
          "name": "stdout"
        }
      ]
    },
    {
      "cell_type": "markdown",
      "metadata": {
        "id": "ciP8_zAq1Hto"
      },
      "source": [
        "### Baraja española"
      ]
    },
    {
      "cell_type": "code",
      "metadata": {
        "id": "I-78SXgAtvs_",
        "outputId": "9d4ce669-280d-4633-f5b6-e3f0cd60c7ee",
        "colab": {
          "base_uri": "https://localhost:8080/",
          "height": 301
        }
      },
      "source": [
        "probability, win_cards_sum = monte_carlo_blackjack(10000000, std_spanish_deck, ploting=True)\n",
        "print(\"Probabilidad de ganar {}\".format(probability))\n",
        "print(\"El promedio de cartas usadas para ganar {} ({})\".format(round(sum(win_cards_sum)/len(win_cards_sum)), sum(win_cards_sum)/len(win_cards_sum)))"
      ],
      "execution_count": 4,
      "outputs": [
        {
          "output_type": "display_data",
          "data": {
            "image/png": "[encoded data removed]",
            "text/plain": [
              "<Figure size 432x288 with 1 Axes>"
            ]
          },
          "metadata": {
            "tags": [],
            "needs_background": "light"
          }
        },
        {
          "output_type": "stream",
          "text": [
            "Probabilidad de ganar 0.1581591\n",
            "El promedio de cartas usadas para ganar 3 (3.415505019945106)\n"
          ],
          "name": "stdout"
        }
      ]
    },
    {
      "cell_type": "markdown",
      "metadata": {
        "id": "DNatSDLe1KNn"
      },
      "source": [
        "### Baraja de poker"
      ]
    },
    {
      "cell_type": "code",
      "metadata": {
        "id": "Mq8ZVlUruueY",
        "outputId": "2d6d7518-6b33-424e-cd97-d274e4148197",
        "colab": {
          "base_uri": "https://localhost:8080/",
          "height": 301
        }
      },
      "source": [
        "probability, win_cards_sum = monte_carlo_blackjack(10000000, std_poker_deck, ploting=True)\n",
        "print(\"Probabilidad de ganar {}\".format(probability))\n",
        "print(\"El promedio de cartas usadas para ganar {} ({})\".format(round(sum(win_cards_sum)/len(win_cards_sum)), sum(win_cards_sum)/len(win_cards_sum)))"
      ],
      "execution_count": 5,
      "outputs": [
        {
          "output_type": "display_data",
          "data": {
            "image/png": "[encoded data removed]",
            "text/plain": [
              "<Figure size 432x288 with 1 Axes>"
            ]
          },
          "metadata": {
            "tags": [],
            "needs_background": "light"
          }
        },
        {
          "output_type": "stream",
          "text": [
            "Probabilidad de ganar 0.1447849\n",
            "El promedio de cartas usadas para ganar 3 (3.2144981969804864)\n"
          ],
          "name": "stdout"
        }
      ]
    },
    {
      "cell_type": "markdown",
      "metadata": {
        "id": "N51Jow9yVQyC"
      },
      "source": [
        "## Punto 2"
      ]
    },
    {
      "cell_type": "code",
      "metadata": {
        "id": "efNUSygaVSgW"
      },
      "source": [
        "# normal weight decks\n",
        "nrm_spanish_deck = [1,2,3,4,5,6,7,8,9,10,10,10,1,2,3,4,5,6,7,8,9,10,10,10,1,2,3,4,5,6,7,8,9,10,10,10,1,2,3,4,5,6,7,8,9,10,10,10]\n",
        "nrm_poker_deck = [1,2,3,4,5,6,7,8,9,10,10,10,10,1,2,3,4,5,6,7,8,9,10,10,10,10,1,2,3,4,5,6,7,8,9,10,10,10,10,1,2,3,4,5,6,7,8,9,10,10,10,10]"
      ],
      "execution_count": 6,
      "outputs": []
    },
    {
      "cell_type": "markdown",
      "metadata": {
        "id": "d5ZpHo671R2M"
      },
      "source": [
        "### Baraja española con 3 dieces por palo"
      ]
    },
    {
      "cell_type": "code",
      "metadata": {
        "id": "RuGrHA-rWBOS",
        "outputId": "f970c57f-2dd9-48e6-b6f8-71a1a31c94ce",
        "colab": {
          "base_uri": "https://localhost:8080/",
          "height": 301
        }
      },
      "source": [
        "probability, win_cards_sum = monte_carlo_blackjack(10000000, nrm_spanish_deck, ploting=True)\n",
        "print(\"Probabilidad de ganar {}\".format(probability))\n",
        "print(\"El promedio de cartas usadas para ganar {} ({})\".format(round(sum(win_cards_sum)/len(win_cards_sum)), sum(win_cards_sum)/len(win_cards_sum)))"
      ],
      "execution_count": 7,
      "outputs": [
        {
          "output_type": "display_data",
          "data": {
            "image/png": "[encoded data removed]",
            "text/plain": [
              "<Figure size 432x288 with 1 Axes>"
            ]
          },
          "metadata": {
            "tags": [],
            "needs_background": "light"
          }
        },
        {
          "output_type": "stream",
          "text": [
            "Probabilidad de ganar 0.1495085\n",
            "El promedio de cartas usadas para ganar 4 (3.6985515873679424)\n"
          ],
          "name": "stdout"
        }
      ]
    },
    {
      "cell_type": "markdown",
      "metadata": {
        "id": "mXGMoZCQ1Vn3"
      },
      "source": [
        "### Baraja de poker con 4 dieces por palo"
      ]
    },
    {
      "cell_type": "code",
      "metadata": {
        "id": "rCPKWAX9WEcE",
        "outputId": "69b0185c-b4f9-4f2c-d0b7-a6b211ffaab3",
        "colab": {
          "base_uri": "https://localhost:8080/",
          "height": 301
        }
      },
      "source": [
        "probability, win_cards_sum = monte_carlo_blackjack(10000000, nrm_poker_deck, ploting=True)\n",
        "print(\"Probabilidad de ganar {}\".format(probability))\n",
        "print(\"El promedio de cartas usadas para ganar {} ({})\".format(round(sum(win_cards_sum)/len(win_cards_sum)), sum(win_cards_sum)/len(win_cards_sum)))"
      ],
      "execution_count": 8,
      "outputs": [
        {
          "output_type": "display_data",
          "data": {
            "image/png": "[encoded data removed]",
            "text/plain": [
              "<Figure size 432x288 with 1 Axes>"
            ]
          },
          "metadata": {
            "tags": [],
            "needs_background": "light"
          }
        },
        {
          "output_type": "stream",
          "text": [
            "Probabilidad de ganar 0.1401984\n",
            "El promedio de cartas usadas para ganar 4 (3.578003029991783)\n"
          ],
          "name": "stdout"
        }
      ]
    },
    {
      "cell_type": "markdown",
      "metadata": {
        "id": "EmMHkULkW0if"
      },
      "source": [
        "## Punto 3"
      ]
    },
    {
      "cell_type": "code",
      "metadata": {
        "id": "uT7ZTsVGsChl"
      },
      "source": [
        "def custom_deck(base_deck, parts_of_deck=2, hand=[]):\n",
        "  '''\n",
        "  Función para generar barajas aleatorias partiendo de una baraja base y un set\n",
        "  de cartas a ignorar\n",
        "\n",
        "  Parameters\n",
        "  ----------\n",
        "  base_deck : int array\n",
        "    La baraja desde la cual se generará una nueva\n",
        "  parts_of_deck : int, optional (default=2)\n",
        "    Partes en la que se partirá la baraja\n",
        "  hand: int array (default=[])\n",
        "    Cartas que no serán tenidas en cuenta al momento de la generación de la\n",
        "    nueva baraja\n",
        "  '''\n",
        "  auxiliar_deck = base_deck[:]\n",
        "  for card in hand:\n",
        "    auxiliar_deck.remove(card)\n",
        "  game_deck = []\n",
        "  for _ in range(int(len(base_deck)/parts_of_deck)):\n",
        "    card = r.choice(auxiliar_deck)\n",
        "    auxiliar_deck.remove(card)\n",
        "    game_deck.append(card)\n",
        "  return game_deck"
      ],
      "execution_count": 9,
      "outputs": []
    },
    {
      "cell_type": "code",
      "metadata": {
        "id": "91m1oP6mGxoB"
      },
      "source": [
        "def monte_carlo_blackjack_dynamic_decks(iterations, base_deck, parts_of_deck=2, initial_game_cards=[], saving_memory=False, ploting=False):\n",
        "  '''\n",
        "  Función para hacer una simulación de monte carlo en el caso del juego \n",
        "  Blackjack en barajas que se generan en cada iteración\n",
        "  \n",
        "  Se crea esta función a partir de monte_carlo_blackjack() con la intención de\n",
        "  que en cada iteración sea un deck distinto buscando que la probabilidad no\n",
        "  dependa de una baraja previamente creada\n",
        "\n",
        "  Parameters\n",
        "  ----------\n",
        "  iterations : int\n",
        "    Número de iteraciones de la simulación\n",
        "  base_deck : int array\n",
        "    Baraja desde la que se va a generar una nueva usando la función custom_deck()\n",
        "  parts_of_deck : int, optional (default=2)\n",
        "    Partes en la que se partirá la baraja base buscando generar una nueva\n",
        "  initial_game_cards : int array, optional (default=[])\n",
        "    Cartas que se tienen en la mano antes de iniciar la simulación\n",
        "  saving_memory : bool, optional (default=False)\n",
        "    Bandera que indica si se quieren guardar el número de cartas usado para ganar\n",
        "    en cada iteración.\n",
        "    Casos:\n",
        "      saving memory == True:\n",
        "        No se guardará el número de cartas utilizado para ganar y la función\n",
        "        retornará la probabilidad y un arreglo vacío\n",
        "      saving memory == False:\n",
        "        Se guarda la cantidad de cartas usadas para ganar y la función retornará\n",
        "        la probabilidad y este arreglo\n",
        "        ** Es necesaro que saving_memory sea False para poder ejecutar la \n",
        "           secuencia de graficar\n",
        "  ploting : bool, optional\n",
        "    Bandera que indica si se desea graficar la distribución de cartas obtenida\n",
        "  '''\n",
        "  win_count = 0\n",
        "  win_game_cards_count = []\n",
        "  for _ in range(iterations):\n",
        "    game_cards = initial_game_cards[:]\n",
        "    game_deck = custom_deck(base_deck, parts_of_deck=parts_of_deck, hand=initial_game_cards) # Se crea una nueva baraja\n",
        "    while sum(game_cards) < 21:\n",
        "      card = r.choice(game_deck)\n",
        "      game_deck.remove(card)\n",
        "      game_cards.append(card)\n",
        "    if sum(game_cards) == 21:\n",
        "      win_count += 1\n",
        "      if not saving_memory:\n",
        "        win_game_cards_count.append(len(game_cards))\n",
        "  if not saving_memory:\n",
        "    if ploting:\n",
        "      win_game_cards_unique = list(set(win_game_cards_count))\n",
        "      win_game_cards_weight = []\n",
        "      win_game_cards_percentage = []\n",
        "      win_game_cards_distribution = []\n",
        "      for n in win_game_cards_unique:\n",
        "        n_count = win_game_cards_count.count(n)\n",
        "        win_game_cards_weight.append(n_count)\n",
        "        win_game_cards_percentage.append('{:.2f}%'.format(n_count*100/len(win_game_cards_count)))\n",
        "        win_game_cards_distribution.append(float('{:.2f}'.format(n_count/len(win_game_cards_count))))\n",
        "      chart = plt.bar(win_game_cards_unique, win_game_cards_distribution, alpha=0.5)\n",
        "      table = plt.table(cellText=[win_game_cards_percentage, win_game_cards_weight],\n",
        "                        rowLabels=['Porcentaje', 'Cantidad'],\n",
        "                        colLabels=win_game_cards_unique,\n",
        "                        loc='bottom')\n",
        "      plt.subplots_adjust(left=0.2, bottom=0.2)\n",
        "      plt.xticks([])\n",
        "      plt.ylabel('Probabilidad de ganar con n cartas')\n",
        "      plt.show();\n",
        "\n",
        "      plt.show();\n",
        "  return win_count/iterations, win_game_cards_count"
      ],
      "execution_count": 10,
      "outputs": []
    },
    {
      "cell_type": "markdown",
      "metadata": {
        "id": "Sk5ePMC-2Fyn"
      },
      "source": [
        "### Mitad de la baraja español de 48 cartas con 3 dieces por palo teniendo en la mano las cartas 7, 7 y 5"
      ]
    },
    {
      "cell_type": "code",
      "metadata": {
        "id": "fjLDcgk6vROe",
        "outputId": "a4294f37-1dd3-4d6f-e21c-c58a7cea882d",
        "colab": {
          "base_uri": "https://localhost:8080/",
          "height": 79
        }
      },
      "source": [
        "spanish_half_deck = custom_deck(nrm_spanish_deck, hand=[7, 7, 5])\n",
        "print('''Tamaño: {}\n",
        "Baraja: {}'''.format(len(spanish_half_deck), spanish_half_deck))"
      ],
      "execution_count": 11,
      "outputs": [
        {
          "output_type": "stream",
          "text": [
            "Tamaño: 24\n",
            "Baraja: [2, 2, 6, 1, 10, 6, 10, 10, 9, 3, 9, 7, 5, 1, 10, 3, 10, 10, 2, 8, 10, 10, 3, 5]\n"
          ],
          "name": "stdout"
        }
      ]
    },
    {
      "cell_type": "code",
      "metadata": {
        "id": "BUxYvbPxuYSx",
        "outputId": "5197ae09-c9d2-437b-89d9-023d579f0104",
        "colab": {
          "base_uri": "https://localhost:8080/",
          "height": 301
        }
      },
      "source": [
        "probability, win_cards_sum = monte_carlo_blackjack_dynamic_decks(10000000, base_deck=nrm_spanish_deck, initial_game_cards=[7, 7, 5], ploting=True)\n",
        "print(\"Probabilidad de ganar {}\".format(probability))\n",
        "print(\"El promedio de cartas usadas para ganar {} ({})\".format(round(sum(win_cards_sum)/len(win_cards_sum)), sum(win_cards_sum)/len(win_cards_sum)))"
      ],
      "execution_count": 12,
      "outputs": [
        {
          "output_type": "display_data",
          "data": {
            "image/png": "[encoded data removed]",
            "text/plain": [
              "<Figure size 432x288 with 1 Axes>"
            ]
          },
          "metadata": {
            "tags": [],
            "needs_background": "light"
          }
        },
        {
          "output_type": "stream",
          "text": [
            "Probabilidad de ganar 0.0949066\n",
            "El promedio de cartas usadas para ganar 4 (4.063959724613462)\n"
          ],
          "name": "stdout"
        }
      ]
    },
    {
      "cell_type": "markdown",
      "metadata": {
        "id": "_FRsB8bo2dz8"
      },
      "source": [
        "### Mitad de la baraja de poker de 52 cartas con 4 dieces por palo teniendo en la mano las cartas 7, 7 y 5"
      ]
    },
    {
      "cell_type": "code",
      "metadata": {
        "id": "jNDcTntO2Wou",
        "outputId": "b0e1ecf1-5edd-415b-93c5-8dbb3086aaae",
        "colab": {
          "base_uri": "https://localhost:8080/",
          "height": 79
        }
      },
      "source": [
        "poker_half_deck = custom_deck(nrm_poker_deck, hand=[7, 7, 5])\n",
        "print('''Tamaño: {}\n",
        "Baraja: {}'''.format(len(poker_half_deck), poker_half_deck))"
      ],
      "execution_count": 13,
      "outputs": [
        {
          "output_type": "stream",
          "text": [
            "Tamaño: 26\n",
            "Baraja: [10, 8, 8, 10, 7, 6, 4, 2, 10, 2, 10, 1, 4, 8, 10, 10, 10, 2, 6, 1, 5, 4, 1, 4, 5, 9]\n"
          ],
          "name": "stdout"
        }
      ]
    },
    {
      "cell_type": "code",
      "metadata": {
        "id": "w1XQCS812mGx",
        "outputId": "3fdce5d8-083b-4c43-c551-88c42f322456",
        "colab": {
          "base_uri": "https://localhost:8080/",
          "height": 301
        }
      },
      "source": [
        "probability, win_cards_sum = monte_carlo_blackjack_dynamic_decks(10000000, base_deck=nrm_poker_deck, initial_game_cards=[7, 7, 5], ploting=True)\n",
        "print(\"Probabilidad de ganar {}\".format(probability))\n",
        "print(\"El promedio de cartas usadas para ganar {} ({})\".format(round(sum(win_cards_sum)/len(win_cards_sum)), sum(win_cards_sum)/len(win_cards_sum)))"
      ],
      "execution_count": 14,
      "outputs": [
        {
          "output_type": "display_data",
          "data": {
            "image/png": "[encoded data removed]",
            "text/plain": [
              "<Figure size 432x288 with 1 Axes>"
            ]
          },
          "metadata": {
            "tags": [],
            "needs_background": "light"
          }
        },
        {
          "output_type": "stream",
          "text": [
            "Probabilidad de ganar 0.0869252\n",
            "El promedio de cartas usadas para ganar 4 (4.0589828956390095)\n"
          ],
          "name": "stdout"
        }
      ]
    },
    {
      "cell_type": "markdown",
      "metadata": {
        "id": "bucg6hJphpU_"
      },
      "source": [
        "## Punto 4"
      ]
    },
    {
      "cell_type": "code",
      "metadata": {
        "id": "EfVxsWuHhoPk"
      },
      "source": [
        "spanish_hot_deck = [1, 1, 1, 1, 2, 2, 2, 2]\n",
        "poker_hot_deck = [1, 1, 1, 1, 2, 2, 2, 2]\n",
        "spanish_cold_deck = [8, 8, 8, 8, 9, 9, 9, 9]\n",
        "poker_cold_deck = [8, 8, 8, 8, 9, 9, 9, 9]"
      ],
      "execution_count": 15,
      "outputs": []
    },
    {
      "cell_type": "markdown",
      "metadata": {
        "id": "8UscMdjO6gnH"
      },
      "source": [
        "### Baraja española"
      ]
    },
    {
      "cell_type": "markdown",
      "metadata": {
        "id": "HqWIsXI06ixh"
      },
      "source": [
        "#### Hot deck"
      ]
    },
    {
      "cell_type": "code",
      "metadata": {
        "id": "Pos8G05UwCYc",
        "outputId": "8ce37ad5-0cec-438b-8035-508031e72d07",
        "colab": {
          "base_uri": "https://localhost:8080/",
          "height": 301
        }
      },
      "source": [
        "probability, win_cards_sum = monte_carlo_blackjack(10000000, spanish_hot_deck, [7, 7, 5], ploting=True)\n",
        "print(\"Probabilidad analítica de ganar {}\".format((1/2)+((1/2)*(3/8))))\n",
        "print(\"Probabilidad monte carlo de ganar {}\".format(probability))"
      ],
      "execution_count": 16,
      "outputs": [
        {
          "output_type": "display_data",
          "data": {
            "image/png": "[encoded data removed]",
            "text/plain": [
              "<Figure size 432x288 with 1 Axes>"
            ]
          },
          "metadata": {
            "tags": [],
            "needs_background": "light"
          }
        },
        {
          "output_type": "stream",
          "text": [
            "Probabilidad analítica de ganar 0.6875\n",
            "Probabilidad monte carlo de ganar 0.7145547\n"
          ],
          "name": "stdout"
        }
      ]
    },
    {
      "cell_type": "code",
      "metadata": {
        "id": "jIjvKLvCvsW8",
        "outputId": "25b2024e-fabb-4fae-fba0-dd1a3eb21f3e",
        "colab": {
          "base_uri": "https://localhost:8080/",
          "height": 59
        }
      },
      "source": [
        "probability, win_cards_sum = monte_carlo_blackjack(10000000, spanish_cold_deck, [7, 7, 5], saving_memory=True)\n",
        "print(\"Probabilidad analítica de ganar {}\".format(0))\n",
        "print(\"Probabilidad monte carlo de ganar {}\".format(probability))"
      ],
      "execution_count": 17,
      "outputs": [
        {
          "output_type": "stream",
          "text": [
            "Probabilidad analítica de ganar 0\n",
            "Probabilidad monte carlo de ganar 0.0\n"
          ],
          "name": "stdout"
        }
      ]
    },
    {
      "cell_type": "markdown",
      "metadata": {
        "id": "tEcbl-zm6sTn"
      },
      "source": [
        "### Baraja de poker"
      ]
    },
    {
      "cell_type": "markdown",
      "metadata": {
        "id": "oQoK_-vU6uZz"
      },
      "source": [
        "#### Hot deck"
      ]
    },
    {
      "cell_type": "code",
      "metadata": {
        "id": "guZRcXOwv43j",
        "outputId": "7f1c1fae-40ca-4439-c648-1febae41029a",
        "colab": {
          "base_uri": "https://localhost:8080/",
          "height": 301
        }
      },
      "source": [
        "probability, win_cards_sum = monte_carlo_blackjack(10000000, poker_hot_deck, [7, 7, 5], ploting=True)\n",
        "print(\"Probabilidad analítica de ganar {}\".format((1/2)+((1/2)*(3/8))))\n",
        "print(\"Probabilidad de ganar {}\".format(probability))"
      ],
      "execution_count": 18,
      "outputs": [
        {
          "output_type": "display_data",
          "data": {
            "image/png": "[encoded data removed]",
            "text/plain": [
              "<Figure size 432x288 with 1 Axes>"
            ]
          },
          "metadata": {
            "tags": [],
            "needs_background": "light"
          }
        },
        {
          "output_type": "stream",
          "text": [
            "Probabilidad analítica de ganar 0.6875\n",
            "Probabilidad de ganar 0.7142891\n"
          ],
          "name": "stdout"
        }
      ]
    },
    {
      "cell_type": "markdown",
      "metadata": {
        "id": "XG_JVsyF6xoe"
      },
      "source": [
        "#### Cold deck"
      ]
    },
    {
      "cell_type": "code",
      "metadata": {
        "id": "psRlOAbNv5bt",
        "outputId": "7c1f3da5-0d9b-47df-ffef-9f8d7448337d",
        "colab": {
          "base_uri": "https://localhost:8080/",
          "height": 59
        }
      },
      "source": [
        "probability, win_cards_sum = monte_carlo_blackjack(10000000, poker_cold_deck, [7, 7, 5], saving_memory=True)\n",
        "print(\"Probabilidad analítica de ganar {}\".format(0))\n",
        "print(\"Probabilidad de ganar {}\".format(probability))"
      ],
      "execution_count": 19,
      "outputs": [
        {
          "output_type": "stream",
          "text": [
            "Probabilidad analítica de ganar 0\n",
            "Probabilidad de ganar 0.0\n"
          ],
          "name": "stdout"
        }
      ]
    },
    {
      "cell_type": "markdown",
      "metadata": {
        "id": "Q0cx2XHuoZfw"
      },
      "source": [
        "## Punto 5"
      ]
    },
    {
      "cell_type": "markdown",
      "metadata": {
        "id": "HIPM3sdK8yPV"
      },
      "source": [
        "### Spanish deck"
      ]
    },
    {
      "cell_type": "code",
      "metadata": {
        "id": "hHKB8Oy9odOA",
        "outputId": "509ff69b-ab4e-4d8a-a570-d7f51a758131",
        "colab": {
          "base_uri": "https://localhost:8080/",
          "height": 38
        }
      },
      "source": [
        "balances = []\n",
        "total_sum_balances = 0 \n",
        "for i in range (0,10000):\n",
        "  bet_hot_deck = 1000\n",
        "  bet_cold_deck = 10\n",
        "  balance = 0\n",
        "  for weekend in range (0,600):\n",
        "    if r.random() <= 0.1:\n",
        "      balance -= bet_hot_deck\n",
        "      probability, win_cards_sum = monte_carlo_blackjack(1, spanish_hot_deck, [7,7,5])\n",
        "      \n",
        "      if probability == 1:\n",
        "        #balance += bet_hot_deck*1.5\n",
        "        balance += bet_hot_deck*2\n",
        "    else:\n",
        "      balance -= bet_cold_deck\n",
        "      probability, win_cards_sum = monte_carlo_blackjack(1, nrm_spanish_deck)\n",
        "\n",
        "      if probability == 1:\n",
        "        #balance += bet_cold_deck*1.5\n",
        "        balance += bet_cold_deck*2\n",
        "  balances.append(balance)\n",
        "  total_sum_balances += balance\n",
        "\n",
        "print('El promedio de los balances obtenidos es: {}'.format(total_sum_balances/len(balances)))\n",
        "#plt.hist(balances, bins=30)\n",
        "#plt.show();\n"
      ],
      "execution_count": 20,
      "outputs": [
        {
          "output_type": "stream",
          "text": [
            "El promedio de los balances obtenidos es: 21913.086\n"
          ],
          "name": "stdout"
        }
      ]
    },
    {
      "cell_type": "markdown",
      "metadata": {
        "id": "tJPsWG0Q85t9"
      },
      "source": [
        "### Spanish deck"
      ]
    },
    {
      "cell_type": "code",
      "metadata": {
        "id": "WEP5uXciIWhp",
        "outputId": "63aeacdc-63a9-4ce6-e19a-950c5a4c671e",
        "colab": {
          "base_uri": "https://localhost:8080/",
          "height": 38
        }
      },
      "source": [
        "balances = []\n",
        "total_sum_balances = 0 \n",
        "for i in range (0,10000):\n",
        "  bet_hot_deck = 1000\n",
        "  bet_cold_deck = 10\n",
        "  balance = 0\n",
        "  for weekend in range (0,600):\n",
        "    if r.random() <= 0.1:\n",
        "      balance -= bet_hot_deck\n",
        "      probability, win_cards_sum = monte_carlo_blackjack(1, poker_hot_deck, [7,7,5])\n",
        "      \n",
        "      if probability == 1:\n",
        "        #balance += bet_hot_deck*1.5\n",
        "        balance += bet_hot_deck*2\n",
        "    else:\n",
        "      balance -= bet_cold_deck\n",
        "      probability, win_cards_sum = monte_carlo_blackjack(1, nrm_poker_deck)\n",
        "\n",
        "      if probability == 1:\n",
        "        #balance += bet_cold_deck*1.5\n",
        "        balance += bet_cold_deck*2\n",
        "  balances.append(balance)\n",
        "  total_sum_balances += balance\n",
        "\n",
        "print('El promedio de los balances obtenidos es: {}'.format(total_sum_balances/len(balances)))"
      ],
      "execution_count": 21,
      "outputs": [
        {
          "output_type": "stream",
          "text": [
            "El promedio de los balances obtenidos es: 21872.312\n"
          ],
          "name": "stdout"
        }
      ]
    }
  ]
}